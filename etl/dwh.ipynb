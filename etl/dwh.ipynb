{
 "metadata": {
  "orig_nbformat": 2,
  "kernelspec": {
   "name": "python3",
   "display_name": "Python 3",
   "language": "python"
  }
 },
 "nbformat": 4,
 "nbformat_minor": 2,
 "cells": [
  {
   "source": [
    "# Setup"
   ],
   "cell_type": "markdown",
   "metadata": {}
  },
  {
   "cell_type": "code",
   "execution_count": 1,
   "metadata": {},
   "outputs": [],
   "source": [
    "import sys\n",
    "if '/home/hungnp5/ecommerce-datawarehouse' not in sys.path:\n",
    "    sys.path.append('/home/hungnp5/ecommerce-datawarehouse')\n",
    "from helpers.config.spark_init import init_spark\n",
    "from helpers.util.utils import fetch_sql_table, write_sql_table"
   ]
  },
  {
   "cell_type": "code",
   "execution_count": 2,
   "metadata": {},
   "outputs": [],
   "source": [
    "import pyspark.sql.functions as f\n",
    "from pyspark.sql.functions import col, count\n",
    "from pyspark.sql import Window\n",
    "from functools import reduce"
   ]
  },
  {
   "cell_type": "code",
   "execution_count": 3,
   "metadata": {},
   "outputs": [],
   "source": [
    "spark, sqlContext = init_spark(application_name='DWH', cores_total=40, cors_per_executors=10)"
   ]
  },
  {
   "source": [
    "# Functions"
   ],
   "cell_type": "markdown",
   "metadata": {}
  },
  {
   "cell_type": "code",
   "execution_count": 16,
   "metadata": {},
   "outputs": [],
   "source": [
    "def check_null(df):\n",
    "    df.select([count(f.when(col(c).isNull(), c)).alias(c) for c in df.columns]).show()"
   ]
  },
  {
   "cell_type": "code",
   "execution_count": 17,
   "metadata": {},
   "outputs": [],
   "source": [
    "def check_duplicates(df, cols):\n",
    "    df.groupby(cols).count().where('count > 1').show(truncate=False)"
   ]
  },
  {
   "source": [
    "# Fetch Data"
   ],
   "cell_type": "markdown",
   "metadata": {}
  },
  {
   "cell_type": "code",
   "execution_count": 10,
   "metadata": {},
   "outputs": [],
   "source": [
    "staging_customers = fetch_sql_table(spark, db='STAGING', db_table='STAGING_CUSTOMERS')\n",
    "staging_order_payments = fetch_sql_table(spark, db='STAGING', db_table='STAGING_ORDER_PAYMENTS')\n",
    "staging_orders = fetch_sql_table(spark, db='STAGING', db_table='STAGING_ORDERS')\n",
    "staging_products = fetch_sql_table(spark, db='STAGING', db_table='STAGING_PRODUCTS')\n",
    "staging_sellers = fetch_sql_table(spark, db='STAGING', db_table='STAGING_SELLERS')"
   ]
  },
  {
   "source": [
    "# Inspect"
   ],
   "cell_type": "markdown",
   "metadata": {}
  },
  {
   "source": [
    "## Count"
   ],
   "cell_type": "markdown",
   "metadata": {}
  },
  {
   "cell_type": "code",
   "execution_count": 11,
   "metadata": {},
   "outputs": [
    {
     "output_type": "stream",
     "name": "stdout",
     "text": [
      "Customers: 96096\n",
      "Order Payments: 103886\n",
      "Orders: 114100\n",
      "Products: 32951\n",
      "Sellers: 3095\n"
     ]
    }
   ],
   "source": [
    "print(f\"Customers: {staging_customers.count()}\")\n",
    "print(f\"Order Payments: {staging_order_payments.count()}\")\n",
    "print(f\"Orders: {staging_orders.count()}\")\n",
    "print(f\"Products: {staging_products.count()}\")\n",
    "print(f\"Sellers: {staging_sellers.count()}\")"
   ]
  },
  {
   "cell_type": "code",
   "execution_count": null,
   "metadata": {},
   "outputs": [],
   "source": []
  },
  {
   "source": [
    "# ETL"
   ],
   "cell_type": "markdown",
   "metadata": {}
  },
  {
   "source": [
    "# Customer"
   ],
   "cell_type": "markdown",
   "metadata": {}
  },
  {
   "cell_type": "code",
   "execution_count": 25,
   "metadata": {},
   "outputs": [],
   "source": [
    "customers = staging_customers.where('CUSTOMER_GEO_LAT is not null and CUSTOMER_GEO_LONG is not null')"
   ]
  },
  {
   "cell_type": "code",
   "execution_count": 26,
   "metadata": {},
   "outputs": [
    {
     "output_type": "stream",
     "name": "stdout",
     "text": [
      "+------------------+----------------+-------------+--------------+----------------+-----------------+\n|CUSTOMER_UNIQUE_ID|CUSTOMER_ZIPCODE|CUSTOMER_CITY|CUSTOMER_STATE|CUSTOMER_GEO_LAT|CUSTOMER_GEO_LONG|\n+------------------+----------------+-------------+--------------+----------------+-----------------+\n|                 0|               0|            0|             0|               0|                0|\n+------------------+----------------+-------------+--------------+----------------+-----------------+\n\n"
     ]
    }
   ],
   "source": [
    "check_null(customers)\n",
    "        .withColumn('CUSTOMER_KEY', f.monotonically_increasing_id())"
   ]
  },
  {
   "cell_type": "code",
   "execution_count": 27,
   "metadata": {},
   "outputs": [],
   "source": [
    "write_sql_table(customers, db='DWH', db_table='CUSTOMERS', mode='append')"
   ]
  },
  {
   "source": [
    "# Payment"
   ],
   "cell_type": "markdown",
   "metadata": {}
  },
  {
   "cell_type": "code",
   "execution_count": 31,
   "metadata": {},
   "outputs": [
    {
     "output_type": "execute_result",
     "data": {
      "text/plain": [
       "['ORDER_ID',\n",
       " 'PAYMENT_SEQUENTIAL',\n",
       " 'PAYMENT_TYPE',\n",
       " 'PAYMENT_INSTALLMENTS',\n",
       " 'PAYMENT_VALUE']"
      ]
     },
     "metadata": {},
     "execution_count": 31
    }
   ],
   "source": [
    "staging_order_payments.columns"
   ]
  },
  {
   "cell_type": "code",
   "execution_count": 32,
   "metadata": {},
   "outputs": [],
   "source": [
    "payments = staging_order_payments.withColumn('PAYMENT_TYPE', f.regexp_replace('PAYMENT_TYPE', '_', ''))"
   ]
  },
  {
   "cell_type": "code",
   "execution_count": 35,
   "metadata": {},
   "outputs": [],
   "source": [
    "write_sql_table(payments, db='DWH', db_table='ORDER_PAYMENTS', mode='append')"
   ]
  },
  {
   "source": [
    "# Products"
   ],
   "cell_type": "markdown",
   "metadata": {}
  },
  {
   "cell_type": "code",
   "execution_count": 44,
   "metadata": {},
   "outputs": [
    {
     "output_type": "execute_result",
     "data": {
      "text/plain": [
       "['PRODUCT_ID',\n",
       " 'PRODUCT_CATEGORY_NAME',\n",
       " 'PRODUCT_CATEGORY_NAME_ENGLISH',\n",
       " 'PRODUCT_NAME_LENGTH',\n",
       " 'PRODUCT_DESCRIPTION_LENGTH',\n",
       " 'PRODUCT_PHOTOS_QTY',\n",
       " 'PRODUCT_WEIGHT_GRAMS',\n",
       " 'PRODUCT_LENGTH_CM',\n",
       " 'PRODUCT_HEIGHT_CM',\n",
       " 'PRODUCT_WIDTH_CM']"
      ]
     },
     "metadata": {},
     "execution_count": 44
    }
   ],
   "source": [
    "staging_products.columns"
   ]
  },
  {
   "cell_type": "code",
   "execution_count": 42,
   "metadata": {},
   "outputs": [],
   "source": [
    "products = staging_products.withColumn('PRODUCT_CATEGORY_NAME', f.regexp_replace('PRODUCT_CATEGORY_NAME', '_', ''))\\\n",
    "    .withColumn('PRODUCT_CATEGORY_NAME_ENGLISH', f.regexp_replace('PRODUCT_CATEGORY_NAME_ENGLISH', '_', ''))"
   ]
  },
  {
   "cell_type": "code",
   "execution_count": 43,
   "metadata": {},
   "outputs": [
    {
     "output_type": "error",
     "ename": "AnalysisException",
     "evalue": "Column \"PRODUCT_PHOTOS_QTY\" not found in schema Some(StructType(StructField(PRODUCT_KEY,LongType,false), StructField(PRODUCT_ID,StringType,false), StructField(PRODUCT_CATEGORY_NAME,StringType,false), StructField(PRODUCT_CATEGORY_NAME_ENGLISH,StringType,false), StructField(PRODUCT_NAME_LENGTH,IntegerType,false), StructField(PRODUCT_DESCRIPTION_LENGTH,IntegerType,false), StructField(PRODUCT_PHOTO_QTY,IntegerType,false), StructField(PRODUCT_WEIGHT_GRAMS,IntegerType,false), StructField(PRODUCT_LENGTH_CM,IntegerType,false), StructField(PRODUCT_HEIGHT_CM,IntegerType,false), StructField(PRODUCT_WIDTH_CM,IntegerType,false)))",
     "traceback": [
      "\u001b[0;31m---------------------------------------------------------------------------\u001b[0m",
      "\u001b[0;31mAnalysisException\u001b[0m                         Traceback (most recent call last)",
      "\u001b[0;32m<ipython-input-43-0b4dbce223c9>\u001b[0m in \u001b[0;36m<module>\u001b[0;34m\u001b[0m\n\u001b[0;32m----> 1\u001b[0;31m \u001b[0mwrite_sql_table\u001b[0m\u001b[0;34m(\u001b[0m\u001b[0mproducts\u001b[0m\u001b[0;34m,\u001b[0m \u001b[0mdb\u001b[0m\u001b[0;34m=\u001b[0m\u001b[0;34m'DWH'\u001b[0m\u001b[0;34m,\u001b[0m \u001b[0mdb_table\u001b[0m\u001b[0;34m=\u001b[0m\u001b[0;34m'PRODUCTS'\u001b[0m\u001b[0;34m,\u001b[0m \u001b[0mmode\u001b[0m\u001b[0;34m=\u001b[0m\u001b[0;34m'append'\u001b[0m\u001b[0;34m)\u001b[0m\u001b[0;34m\u001b[0m\u001b[0;34m\u001b[0m\u001b[0m\n\u001b[0m",
      "\u001b[0;32m~/ecommerce-datawarehouse/helpers/util/utils.py\u001b[0m in \u001b[0;36mwrite_sql_table\u001b[0;34m(df, db, db_table, host, port, user, password, mode)\u001b[0m\n\u001b[1;32m     27\u001b[0m     \u001b[0;32mif\u001b[0m \u001b[0;32mnot\u001b[0m \u001b[0mdf\u001b[0m \u001b[0;32mor\u001b[0m \u001b[0;32mnot\u001b[0m \u001b[0mdb\u001b[0m \u001b[0;32mor\u001b[0m \u001b[0;32mnot\u001b[0m \u001b[0mdb_table\u001b[0m\u001b[0;34m:\u001b[0m\u001b[0;34m\u001b[0m\u001b[0;34m\u001b[0m\u001b[0m\n\u001b[1;32m     28\u001b[0m         \u001b[0;32mraise\u001b[0m \u001b[0mException\u001b[0m\u001b[0;34m(\u001b[0m\u001b[0;34m'spark || db || db_table is undefined'\u001b[0m\u001b[0;34m)\u001b[0m\u001b[0;34m\u001b[0m\u001b[0;34m\u001b[0m\u001b[0m\n\u001b[0;32m---> 29\u001b[0;31m     df.write.format('jdbc').options(\n\u001b[0m\u001b[1;32m     30\u001b[0m         \u001b[0murl\u001b[0m\u001b[0;34m=\u001b[0m\u001b[0;34mf'jdbc:mysql://{host}:{port}/{db}'\u001b[0m\u001b[0;34m,\u001b[0m\u001b[0;34m\u001b[0m\u001b[0;34m\u001b[0m\u001b[0m\n\u001b[1;32m     31\u001b[0m         \u001b[0mdriver\u001b[0m\u001b[0;34m=\u001b[0m\u001b[0;34m'com.mysql.jdbc.Driver'\u001b[0m\u001b[0;34m,\u001b[0m\u001b[0;34m\u001b[0m\u001b[0;34m\u001b[0m\u001b[0m\n",
      "\u001b[0;32m~/miniconda3/envs/ngph/lib/python3.8/site-packages/pyspark/sql/readwriter.py\u001b[0m in \u001b[0;36msave\u001b[0;34m(self, path, format, mode, partitionBy, **options)\u001b[0m\n\u001b[1;32m   1105\u001b[0m             \u001b[0mself\u001b[0m\u001b[0;34m.\u001b[0m\u001b[0mformat\u001b[0m\u001b[0;34m(\u001b[0m\u001b[0mformat\u001b[0m\u001b[0;34m)\u001b[0m\u001b[0;34m\u001b[0m\u001b[0;34m\u001b[0m\u001b[0m\n\u001b[1;32m   1106\u001b[0m         \u001b[0;32mif\u001b[0m \u001b[0mpath\u001b[0m \u001b[0;32mis\u001b[0m \u001b[0;32mNone\u001b[0m\u001b[0;34m:\u001b[0m\u001b[0;34m\u001b[0m\u001b[0;34m\u001b[0m\u001b[0m\n\u001b[0;32m-> 1107\u001b[0;31m             \u001b[0mself\u001b[0m\u001b[0;34m.\u001b[0m\u001b[0m_jwrite\u001b[0m\u001b[0;34m.\u001b[0m\u001b[0msave\u001b[0m\u001b[0;34m(\u001b[0m\u001b[0;34m)\u001b[0m\u001b[0;34m\u001b[0m\u001b[0;34m\u001b[0m\u001b[0m\n\u001b[0m\u001b[1;32m   1108\u001b[0m         \u001b[0;32melse\u001b[0m\u001b[0;34m:\u001b[0m\u001b[0;34m\u001b[0m\u001b[0;34m\u001b[0m\u001b[0m\n\u001b[1;32m   1109\u001b[0m             \u001b[0mself\u001b[0m\u001b[0;34m.\u001b[0m\u001b[0m_jwrite\u001b[0m\u001b[0;34m.\u001b[0m\u001b[0msave\u001b[0m\u001b[0;34m(\u001b[0m\u001b[0mpath\u001b[0m\u001b[0;34m)\u001b[0m\u001b[0;34m\u001b[0m\u001b[0;34m\u001b[0m\u001b[0m\n",
      "\u001b[0;32m~/miniconda3/envs/ngph/lib/python3.8/site-packages/py4j/java_gateway.py\u001b[0m in \u001b[0;36m__call__\u001b[0;34m(self, *args)\u001b[0m\n\u001b[1;32m   1302\u001b[0m \u001b[0;34m\u001b[0m\u001b[0m\n\u001b[1;32m   1303\u001b[0m         \u001b[0manswer\u001b[0m \u001b[0;34m=\u001b[0m \u001b[0mself\u001b[0m\u001b[0;34m.\u001b[0m\u001b[0mgateway_client\u001b[0m\u001b[0;34m.\u001b[0m\u001b[0msend_command\u001b[0m\u001b[0;34m(\u001b[0m\u001b[0mcommand\u001b[0m\u001b[0;34m)\u001b[0m\u001b[0;34m\u001b[0m\u001b[0;34m\u001b[0m\u001b[0m\n\u001b[0;32m-> 1304\u001b[0;31m         return_value = get_return_value(\n\u001b[0m\u001b[1;32m   1305\u001b[0m             answer, self.gateway_client, self.target_id, self.name)\n\u001b[1;32m   1306\u001b[0m \u001b[0;34m\u001b[0m\u001b[0m\n",
      "\u001b[0;32m~/miniconda3/envs/ngph/lib/python3.8/site-packages/pyspark/sql/utils.py\u001b[0m in \u001b[0;36mdeco\u001b[0;34m(*a, **kw)\u001b[0m\n\u001b[1;32m    115\u001b[0m                 \u001b[0;31m# Hide where the exception came from that shows a non-Pythonic\u001b[0m\u001b[0;34m\u001b[0m\u001b[0;34m\u001b[0m\u001b[0;34m\u001b[0m\u001b[0m\n\u001b[1;32m    116\u001b[0m                 \u001b[0;31m# JVM exception message.\u001b[0m\u001b[0;34m\u001b[0m\u001b[0;34m\u001b[0m\u001b[0;34m\u001b[0m\u001b[0m\n\u001b[0;32m--> 117\u001b[0;31m                 \u001b[0;32mraise\u001b[0m \u001b[0mconverted\u001b[0m \u001b[0;32mfrom\u001b[0m \u001b[0;32mNone\u001b[0m\u001b[0;34m\u001b[0m\u001b[0;34m\u001b[0m\u001b[0m\n\u001b[0m\u001b[1;32m    118\u001b[0m             \u001b[0;32melse\u001b[0m\u001b[0;34m:\u001b[0m\u001b[0;34m\u001b[0m\u001b[0;34m\u001b[0m\u001b[0m\n\u001b[1;32m    119\u001b[0m                 \u001b[0;32mraise\u001b[0m\u001b[0;34m\u001b[0m\u001b[0;34m\u001b[0m\u001b[0m\n",
      "\u001b[0;31mAnalysisException\u001b[0m: Column \"PRODUCT_PHOTOS_QTY\" not found in schema Some(StructType(StructField(PRODUCT_KEY,LongType,false), StructField(PRODUCT_ID,StringType,false), StructField(PRODUCT_CATEGORY_NAME,StringType,false), StructField(PRODUCT_CATEGORY_NAME_ENGLISH,StringType,false), StructField(PRODUCT_NAME_LENGTH,IntegerType,false), StructField(PRODUCT_DESCRIPTION_LENGTH,IntegerType,false), StructField(PRODUCT_PHOTO_QTY,IntegerType,false), StructField(PRODUCT_WEIGHT_GRAMS,IntegerType,false), StructField(PRODUCT_LENGTH_CM,IntegerType,false), StructField(PRODUCT_HEIGHT_CM,IntegerType,false), StructField(PRODUCT_WIDTH_CM,IntegerType,false)))"
     ]
    }
   ],
   "source": [
    "write_sql_table(products, db='DWH', db_table='PRODUCTS', mode='append')"
   ]
  },
  {
   "cell_type": "code",
   "execution_count": null,
   "metadata": {},
   "outputs": [],
   "source": []
  }
 ]
}