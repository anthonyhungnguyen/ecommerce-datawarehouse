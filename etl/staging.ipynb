{
 "metadata": {
  "orig_nbformat": 2,
  "kernelspec": {
   "name": "python3",
   "display_name": "Python 3",
   "language": "python"
  },
  "metadata": {
   "interpreter": {
    "hash": "01efd7e267f1b7375daa0c56a2eff7ca7b80939f072f04afac8cb8d85eb1fe38"
   }
  }
 },
 "nbformat": 4,
 "nbformat_minor": 2,
 "cells": [
  {
   "source": [
    "# Setup"
   ],
   "cell_type": "markdown",
   "metadata": {}
  },
  {
   "cell_type": "code",
   "execution_count": 1,
   "metadata": {},
   "outputs": [],
   "source": [
    "import sys\n",
    "if '/home/hungnp5/ecommerce-datawarehouse' not in sys.path:\n",
    "    sys.path.append('/home/hungnp5/ecommerce-datawarehouse')\n",
    "from helpers.config.spark_init import init_spark\n",
    "from helpers.util.utils import fetch_sql_table, write_sql_table"
   ]
  },
  {
   "cell_type": "code",
   "execution_count": 2,
   "metadata": {},
   "outputs": [],
   "source": [
    "import pyspark.sql.functions as f\n",
    "from pyspark.sql.functions import col, count\n",
    "from pyspark.sql import Window\n",
    "from functools import reduce"
   ]
  },
  {
   "cell_type": "code",
   "execution_count": 3,
   "metadata": {},
   "outputs": [],
   "source": [
    "spark, sqlContext = init_spark(application_name='test', cores_total=40, cors_per_executors=10)"
   ]
  },
  {
   "source": [
    "# Fetch Data"
   ],
   "cell_type": "markdown",
   "metadata": {}
  },
  {
   "cell_type": "code",
   "execution_count": 4,
   "metadata": {},
   "outputs": [],
   "source": [
    "oltp_customers = fetch_sql_table(spark=spark, db='OLTP', db_table='OLTP_CUSTOMERS')\n",
    "oltp_categories_translation = fetch_sql_table(spark=spark, db='OLTP', db_table='OLTP_CATEGORIES_TRANSLATION')\n",
    "oltp_geolocation = fetch_sql_table(spark=spark, db='OLTP', db_table='OLTP_GEOLOCATION')\n",
    "oltp_order_items = fetch_sql_table(spark=spark, db='OLTP', db_table='OLTP_ORDER_ITEMS')\n",
    "oltp_order_payments = fetch_sql_table(spark=spark, db='OLTP', db_table='OLTP_ORDER_PAYMENTS')\n",
    "oltp_order_reviews = fetch_sql_table(spark=spark, db='OLTP', db_table='OLTP_ORDER_REVIEWS')\n",
    "oltp_orders = fetch_sql_table(spark=spark, db='OLTP', db_table='OLTP_ORDERS')\n",
    "oltp_products = fetch_sql_table(spark=spark, db='OLTP', db_table='OLTP_PRODUCTS')\n",
    "oltp_sellers = fetch_sql_table(spark=spark, db='OLTP', db_table='OLTP_SELLERS')\n",
    "\n"
   ]
  },
  {
   "source": [
    "# Functions"
   ],
   "cell_type": "markdown",
   "metadata": {}
  },
  {
   "cell_type": "code",
   "execution_count": 5,
   "metadata": {},
   "outputs": [],
   "source": [
    "def check_null(df):\n",
    "    df.select([count(f.when(col(c).isNull(), c)).alias(c) for c in df.columns]).show()"
   ]
  },
  {
   "cell_type": "code",
   "execution_count": 6,
   "metadata": {},
   "outputs": [],
   "source": [
    "def blank_as_null(x):\n",
    "    return f.when(col(x) != \"\", col(x)).otherwise(None)\n",
    "def replace_empty_string_with_null(dataframe):\n",
    "    return reduce(lambda df, x: df.withColumn(x, blank_as_null(x)), [name for name, type in dataframe.dtypes if type == 'string'], dataframe)"
   ]
  },
  {
   "cell_type": "code",
   "execution_count": 7,
   "metadata": {},
   "outputs": [],
   "source": [
    "def check_duplicates(df, cols):\n",
    "    df.groupby(cols).count().where('count > 1').show(truncate=False)"
   ]
  },
  {
   "source": [
    "# Preprocess"
   ],
   "cell_type": "markdown",
   "metadata": {}
  },
  {
   "source": [
    "## Geolocation\n",
    "1. Some outliers coordinates that are outside brazillian territory"
   ],
   "cell_type": "markdown",
   "metadata": {}
  },
  {
   "cell_type": "code",
   "execution_count": 8,
   "metadata": {},
   "outputs": [
    {
     "output_type": "stream",
     "name": "stdout",
     "text": [
      "+-------+---------------------------+-------------------+-------------------+----------------+-----------------+\n|summary|GEOLOCATION_ZIP_CODE_PREFIX|    GEOLOCATION_LAT|    GEOLOCATION_LNG|GEOLOCATION_CITY|GEOLOCATION_STATE|\n+-------+---------------------------+-------------------+-------------------+----------------+-----------------+\n|  count|                    1000163|            1000163|            1000163|         1000163|          1000163|\n|   mean|          36574.16646586607|-21.176152910383102|-46.390541320935995|            null|             null|\n| stddev|          30549.33571031949|  5.715866308823084|  4.269748306619793|            null|             null|\n|    min|                      01001|  -36.6053744107061|-101.46676644931476|        * cidade|               AC|\n|    max|                      99990|  45.06593318269697| 121.10539381057764|            óleo|               TO|\n+-------+---------------------------+-------------------+-------------------+----------------+-----------------+\n\n"
     ]
    }
   ],
   "source": [
    "oltp_geolocation.describe().show()"
   ]
  },
  {
   "cell_type": "code",
   "execution_count": 9,
   "metadata": {},
   "outputs": [
    {
     "output_type": "stream",
     "name": "stdout",
     "text": [
      "+---------------------------+-------------------+-------------------+----------------+-----------------+\n|GEOLOCATION_ZIP_CODE_PREFIX|    GEOLOCATION_LAT|    GEOLOCATION_LNG|GEOLOCATION_CITY|GEOLOCATION_STATE|\n+---------------------------+-------------------+-------------------+----------------+-----------------+\n|                      01037| -23.54562128115268| -46.63929204800168|       sao paulo|               SP|\n|                      01046|-23.546081127035535| -46.64482029837157|       sao paulo|               SP|\n|                      01046| -23.54612896641469| -46.64295148361138|       sao paulo|               SP|\n|                      01041|  -23.5443921648681| -46.63949930627844|       sao paulo|               SP|\n|                      01035|-23.541577961711493| -46.64160722329613|       sao paulo|               SP|\n|                      01012|-23.547762303364266| -46.63536053788448|       são paulo|               SP|\n|                      01047|-23.546273112412678| -46.64122516971552|       sao paulo|               SP|\n|                      01013|-23.546923208436723|  -46.6342636964915|       sao paulo|               SP|\n|                      01029|-23.543769055769133| -46.63427784085132|       sao paulo|               SP|\n|                      01011|-23.547639550320632| -46.63603162315495|       sao paulo|               SP|\n|                      01013|-23.547325128224376| -46.63418378613892|       sao paulo|               SP|\n|                      01032| -23.53841810407414|-46.634778375266734|       sao paulo|               SP|\n|                      01014|-23.546435343326205| -46.63383023397196|       sao paulo|               SP|\n|                      01012|-23.548945985189434| -46.63467113292871|       sao paulo|               SP|\n|                      01037|-23.545187340816042| -46.63785524104107|       são paulo|               SP|\n|                      01046|-23.546081127035535| -46.64482029837157|       sao paulo|               SP|\n|                      01039|-23.541883009983316| -46.63991946670314|       sao paulo|               SP|\n|                      01024|-23.541389521053937|-46.629899087812184|       são paulo|               SP|\n|                      01009| -23.54693540437998| -46.63658792659698|       sao paulo|               SP|\n|                      01046|-23.545884279214015|-46.643163191240035|       sao paulo|               SP|\n+---------------------------+-------------------+-------------------+----------------+-----------------+\nonly showing top 20 rows\n\n"
     ]
    }
   ],
   "source": [
    "#Brazils most Northern spot is at 5 deg 16′ 27.8″ N latitude.;\n",
    "#it’s most Western spot is at 73 deg, 58′ 58.19″W Long.\n",
    "#It’s most southern spot is at 33 deg, 45′ 04.21″ S Latitude.\n",
    "#It’s most Eastern spot is 34 deg, 47′ 35.33″ W Long.\n",
    "oltp_geolocation_remove_outliers = oltp_geolocation.where('GEOLOCATION_LAT <= 5.27438888')\\\n",
    "    .where('GEOLOCATION_LNG >= -73.98283055')\\\n",
    "    .where('GEOLOCATION_LAT >=  -33.75116944')\\\n",
    "    .where('GEOLOCATION_LNG <= -34.79314722')\n",
    "oltp_geolocation_remove_outliers.show()"
   ]
  },
  {
   "source": [
    "## Product\n",
    "1. Replace empty string with null\n",
    "2. Check null\n",
    "3. Check duplicate"
   ],
   "cell_type": "markdown",
   "metadata": {}
  },
  {
   "cell_type": "code",
   "execution_count": 10,
   "metadata": {},
   "outputs": [],
   "source": [
    "oltp_products_processed = replace_empty_string_with_null(oltp_products)\n",
    "oltp_categories_translation_processed = replace_empty_string_with_null(oltp_categories_translation)"
   ]
  },
  {
   "cell_type": "code",
   "execution_count": 11,
   "metadata": {},
   "outputs": [
    {
     "output_type": "stream",
     "name": "stdout",
     "text": [
      "+----------+---------------------+-------------------+--------------------------+------------------+----------------+-----------------+-----------------+----------------+\n",
      "|PRODUCT_ID|PRODUCT_CATEGORY_NAME|PRODUCT_NAME_LENGTH|PRODUCT_DESCRIPTION_LENGTH|PRODUCT_PHOTOS_QTY|PRODUCT_WEIGHT_G|PRODUCT_LENGTH_CM|PRODUCT_HEIGHT_CM|PRODUCT_WIDTH_CM|\n",
      "+----------+---------------------+-------------------+--------------------------+------------------+----------------+-----------------+-----------------+----------------+\n",
      "|         0|                  610|                  0|                         0|                 0|               0|                0|                0|               0|\n",
      "+----------+---------------------+-------------------+--------------------------+------------------+----------------+-----------------+-----------------+----------------+\n",
      "\n",
      "+---------------------+-----------------------------+\n",
      "|PRODUCT_CATEGORY_NAME|PRODUCT_CATEGORY_NAME_ENGLISH|\n",
      "+---------------------+-----------------------------+\n",
      "|                    0|                            0|\n",
      "+---------------------+-----------------------------+\n",
      "\n"
     ]
    }
   ],
   "source": [
    "check_null(oltp_products_processed)\n",
    "check_null(oltp_categories_translation_processed)"
   ]
  },
  {
   "cell_type": "code",
   "execution_count": 12,
   "metadata": {},
   "outputs": [
    {
     "output_type": "stream",
     "name": "stdout",
     "text": [
      "+----------+-----+\n",
      "|PRODUCT_ID|count|\n",
      "+----------+-----+\n",
      "+----------+-----+\n",
      "\n",
      "+---------------------+-----+\n",
      "|PRODUCT_CATEGORY_NAME|count|\n",
      "+---------------------+-----+\n",
      "+---------------------+-----+\n",
      "\n",
      "+-----------------------------+-----+\n",
      "|PRODUCT_CATEGORY_NAME_ENGLISH|count|\n",
      "+-----------------------------+-----+\n",
      "+-----------------------------+-----+\n",
      "\n"
     ]
    }
   ],
   "source": [
    "# Duplicates\n",
    "check_duplicates(oltp_products_processed, cols=['PRODUCT_ID'])\n",
    "check_duplicates(oltp_categories_translation_processed, cols=['PRODUCT_CATEGORY_NAME'])\n",
    "check_duplicates(oltp_categories_translation_processed, cols=['PRODUCT_CATEGORY_NAME_ENGLISH'])"
   ]
  },
  {
   "source": [
    "## Seller\n",
    "1. Replace emptry string with null\n",
    "2. Check null\n",
    "3. Check dup"
   ],
   "cell_type": "markdown",
   "metadata": {}
  },
  {
   "cell_type": "code",
   "execution_count": 13,
   "metadata": {},
   "outputs": [
    {
     "output_type": "stream",
     "name": "stdout",
     "text": [
      "+---------+----------------------+-----------+------------+\n",
      "|SELLER_ID|SELLER_ZIP_CODE_PREFIX|SELLER_CITY|SELLER_STATE|\n",
      "+---------+----------------------+-----------+------------+\n",
      "|        0|                     0|          0|           0|\n",
      "+---------+----------------------+-----------+------------+\n",
      "\n",
      "+---------+-----+\n",
      "|SELLER_ID|count|\n",
      "+---------+-----+\n",
      "+---------+-----+\n",
      "\n"
     ]
    }
   ],
   "source": [
    "oltp_sellers_processed = replace_empty_string_with_null(oltp_sellers)\n",
    "check_null(oltp_sellers_processed)\n",
    "check_duplicates(oltp_sellers_processed, cols=['SELLER_ID'])"
   ]
  },
  {
   "source": [
    "## Payment\n",
    "1. Replace emptry string with null\n",
    "2. Check null\n",
    "3. Check dup*\n",
    "\n",
    "* Payment Sequential: a customer may pay an order with more than one payment method. If he does so, a sequence will be created to accommodate all payments."
   ],
   "cell_type": "markdown",
   "metadata": {}
  },
  {
   "cell_type": "code",
   "execution_count": 14,
   "metadata": {},
   "outputs": [
    {
     "output_type": "stream",
     "name": "stdout",
     "text": [
      "+--------+------------------+------------+--------------------+-------------+\n",
      "|ORDER_ID|PAYMENT_SEQUENTIAL|PAYMENT_TYPE|PAYMENT_INSTALLMENTS|PAYMENT_VALUE|\n",
      "+--------+------------------+------------+--------------------+-------------+\n",
      "|       0|                 0|           0|                   0|            0|\n",
      "+--------+------------------+------------+--------------------+-------------+\n",
      "\n",
      "+--------+------------------+-----+\n",
      "|ORDER_ID|PAYMENT_SEQUENTIAL|count|\n",
      "+--------+------------------+-----+\n",
      "+--------+------------------+-----+\n",
      "\n"
     ]
    }
   ],
   "source": [
    "oltp_order_payments_processed = replace_empty_string_with_null(oltp_order_payments)\n",
    "check_null(oltp_order_payments_processed)\n",
    "check_duplicates(oltp_order_payments_processed, cols=['ORDER_ID', 'PAYMENT_SEQUENTIAL'])"
   ]
  },
  {
   "cell_type": "code",
   "execution_count": 15,
   "metadata": {},
   "outputs": [
    {
     "output_type": "stream",
     "name": "stdout",
     "text": [
      "+--------------------+------------------+------------+--------------------+-------------+\n|            ORDER_ID|PAYMENT_SEQUENTIAL|PAYMENT_TYPE|PAYMENT_INSTALLMENTS|PAYMENT_VALUE|\n+--------------------+------------------+------------+--------------------+-------------+\n|8ca5bdac5ebe8f2d6...|                 3|     voucher|                   1|         15.0|\n|8ca5bdac5ebe8f2d6...|                 7|     voucher|                   1|         15.0|\n|8ca5bdac5ebe8f2d6...|                 5|     voucher|                   1|         15.0|\n|8ca5bdac5ebe8f2d6...|                 2|     voucher|                   1|         15.0|\n|8ca5bdac5ebe8f2d6...|                 1| credit_card|                   2|        59.08|\n|8ca5bdac5ebe8f2d6...|                 6|     voucher|                   1|         15.0|\n|8ca5bdac5ebe8f2d6...|                 8|     voucher|                   1|         15.0|\n|8ca5bdac5ebe8f2d6...|                 4|     voucher|                   1|         15.0|\n|8ca5bdac5ebe8f2d6...|                 9|     voucher|                   1|         25.0|\n+--------------------+------------------+------------+--------------------+-------------+\n\n"
     ]
    }
   ],
   "source": [
    "oltp_order_payments_processed.where('ORDER_ID == \"8ca5bdac5ebe8f2d6fc9171d5ebc906a\"').show()"
   ]
  },
  {
   "source": [
    "# ETL"
   ],
   "cell_type": "markdown",
   "metadata": {}
  },
  {
   "source": [
    "## TO STAGING_CUSTOMERS\n",
    "1. Left-Join customers and geolocation by zipcode-prefix\n",
    "2. One zipcode contains many lat, lng -> we need to choose one by using row_numbering to avoid duplicate user \n",
    "3. Check-null\n",
    "4. Check-duplicate\n",
    "5. Save"
   ],
   "cell_type": "markdown",
   "metadata": {}
  },
  {
   "cell_type": "code",
   "execution_count": 35,
   "metadata": {},
   "outputs": [
    {
     "output_type": "stream",
     "name": "stdout",
     "text": [
      "+--------------------+--------------------+------------------------+--------------------+--------------+\n",
      "|         CUSTOMER_ID|  CUSTOMER_UNIQUE_ID|CUSTOMER_ZIP_CODE_PREFIX|       CUSTOMER_CITY|CUSTOMER_STATE|\n",
      "+--------------------+--------------------+------------------------+--------------------+--------------+\n",
      "|06b8999e2fba1a1fb...|861eff4711a542e4b...|                   14409|              franca|            SP|\n",
      "|18955e83d337fd6b2...|290c77bc529b7ac93...|                   09790|sao bernardo do c...|            SP|\n",
      "+--------------------+--------------------+------------------------+--------------------+--------------+\n",
      "only showing top 2 rows\n",
      "\n",
      "+---------------------------+-------------------+------------------+----------------+-----------------+\n",
      "|GEOLOCATION_ZIP_CODE_PREFIX|    GEOLOCATION_LAT|   GEOLOCATION_LNG|GEOLOCATION_CITY|GEOLOCATION_STATE|\n",
      "+---------------------------+-------------------+------------------+----------------+-----------------+\n",
      "|                      01037| -23.54562128115268|-46.63929204800168|       sao paulo|               SP|\n",
      "|                      01046|-23.546081127035535|-46.64482029837157|       sao paulo|               SP|\n",
      "+---------------------------+-------------------+------------------+----------------+-----------------+\n",
      "only showing top 2 rows\n",
      "\n"
     ]
    }
   ],
   "source": [
    "oltp_customers.show(2)\n",
    "oltp_geolocation_remove_outliers.show(2)"
   ]
  },
  {
   "cell_type": "code",
   "execution_count": 36,
   "metadata": {},
   "outputs": [
    {
     "output_type": "stream",
     "name": "stdout",
     "text": [
      "+--------------------------------+----------------+--------------+--------------+-------------------+-------------------+\n|CUSTOMER_UNIQUE_ID              |CUSTOMER_ZIPCODE|CUSTOMER_CITY |CUSTOMER_STATE|CUSTOMER_GEO_LAT   |CUSTOMER_GEO_LNG   |\n+--------------------------------+----------------+--------------+--------------+-------------------+-------------------+\n|000c8bdb58a29e7115cfc257230fb21b|31555           |belo horizonte|MG            |-19.849090315309482|-43.98182678974558 |\n|0078bb0f0d23e922d08437b7d0e13907|31720           |belo horizonte|MG            |-19.841509703955   |-43.949346506205146|\n+--------------------------------+----------------+--------------+--------------+-------------------+-------------------+\nonly showing top 2 rows\n\n"
     ]
    }
   ],
   "source": [
    "staging_customers = oltp_customers.alias('a').join(oltp_geolocation_remove_outliers.alias('b'), col('a.CUSTOMER_ZIP_CODE_PREFIX') == col('b.GEOLOCATION_ZIP_CODE_PREFIX'), how='left')\\\n",
    "    .withColumn('rank', f.row_number().over(Window.partitionBy('CUSTOMER_UNIQUE_ID').orderBy('GEOLOCATION_LAT', 'GEOLOCATION_LNG')))\\\n",
    "    .where('rank == 1')\\\n",
    "    .select('CUSTOMER_UNIQUE_ID', 'CUSTOMER_ZIP_CODE_PREFIX', 'CUSTOMER_CITY', 'CUSTOMER_STATE', 'GEOLOCATION_LAT', 'GEOLOCATION_LNG')\\\n",
    "    .withColumnRenamed('CUSTOMER_ZIP_CODE_PREFIX', 'CUSTOMER_ZIPCODE')\\\n",
    "    .withColumnRenamed('GEOLOCATION_LAT', 'CUSTOMER_GEO_LAT')\\\n",
    "    .withColumnRenamed('GEOLOCATION_LNG', 'CUSTOMER_GEO_LNG')\n",
    "staging_customers.show(2, truncate=False)"
   ]
  },
  {
   "cell_type": "code",
   "execution_count": 37,
   "metadata": {},
   "outputs": [
    {
     "output_type": "stream",
     "name": "stdout",
     "text": [
      "+------------------+----------------+-------------+--------------+----------------+----------------+\n",
      "|CUSTOMER_UNIQUE_ID|CUSTOMER_ZIPCODE|CUSTOMER_CITY|CUSTOMER_STATE|CUSTOMER_GEO_LAT|CUSTOMER_GEO_LNG|\n",
      "+------------------+----------------+-------------+--------------+----------------+----------------+\n",
      "|                 0|               0|            0|             0|             270|             270|\n",
      "+------------------+----------------+-------------+--------------+----------------+----------------+\n",
      "\n",
      "+------------------+-----+\n",
      "|CUSTOMER_UNIQUE_ID|count|\n",
      "+------------------+-----+\n",
      "+------------------+-----+\n",
      "\n"
     ]
    }
   ],
   "source": [
    "check_null(staging_customers)\n",
    "check_duplicates(staging_customers, cols=['CUSTOMER_UNIQUE_ID'])"
   ]
  },
  {
   "cell_type": "code",
   "execution_count": null,
   "metadata": {},
   "outputs": [],
   "source": [
    "write_sql_table(staging_customers, db='STAGING', db_table='STAGING_CUSTOMERS')"
   ]
  },
  {
   "source": [
    "## To Staging Products\n",
    "1. Left-Join Products and Product Name Translation\n",
    "2. Check-null\n",
    "3. Check-dup\n",
    "4. Save"
   ],
   "cell_type": "markdown",
   "metadata": {}
  },
  {
   "cell_type": "code",
   "execution_count": 22,
   "metadata": {},
   "outputs": [
    {
     "output_type": "stream",
     "name": "stdout",
     "text": [
      "+--------------------+---------------------+-------------------+--------------------------+------------------+----------------+-----------------+-----------------+----------------+\n|          PRODUCT_ID|PRODUCT_CATEGORY_NAME|PRODUCT_NAME_LENGTH|PRODUCT_DESCRIPTION_LENGTH|PRODUCT_PHOTOS_QTY|PRODUCT_WEIGHT_G|PRODUCT_LENGTH_CM|PRODUCT_HEIGHT_CM|PRODUCT_WIDTH_CM|\n+--------------------+---------------------+-------------------+--------------------------+------------------+----------------+-----------------+-----------------+----------------+\n|1e9e8ef04dbcff454...|           perfumaria|                 40|                       287|                 1|             225|               16|               10|              14|\n|3aa071139cb16b67c...|                artes|                 44|                       276|                 1|            1000|               30|               18|              20|\n+--------------------+---------------------+-------------------+--------------------------+------------------+----------------+-----------------+-----------------+----------------+\nonly showing top 2 rows\n\n+---------------------+-----------------------------+\n|PRODUCT_CATEGORY_NAME|PRODUCT_CATEGORY_NAME_ENGLISH|\n+---------------------+-----------------------------+\n|         beleza_saude|                health_beauty|\n| informatica_acess...|         computers_accesso...|\n+---------------------+-----------------------------+\nonly showing top 2 rows\n\n"
     ]
    }
   ],
   "source": [
    "oltp_products_processed.show(2)\n",
    "oltp_categories_translation_processed.show(2)"
   ]
  },
  {
   "cell_type": "code",
   "execution_count": 27,
   "metadata": {},
   "outputs": [
    {
     "output_type": "stream",
     "name": "stdout",
     "text": [
      "+--------------------+---------------------+-----------------------------+-------------------+--------------------------+------------------+--------------------+-----------------+-----------------+----------------+\n|          PRODUCT_ID|PRODUCT_CATEGORY_NAME|PRODUCT_CATEGORY_NAME_ENGLISH|PRODUCT_NAME_LENGTH|PRODUCT_DESCRIPTION_LENGTH|PRODUCT_PHOTOS_QTY|PRODUCT_WEIGHT_GRAMS|PRODUCT_LENGTH_CM|PRODUCT_HEIGHT_CM|PRODUCT_WIDTH_CM|\n+--------------------+---------------------+-----------------------------+-------------------+--------------------------+------------------+--------------------+-----------------+-----------------+----------------+\n|1e5428c428e0f783a...|                  pcs|                    computers|                 55|                      1067|                 1|               12000|               27|               50|              53|\n|9aedf557945e816d4...|                  pcs|                    computers|                 55|                      3610|                 4|                2400|               16|               31|              39|\n+--------------------+---------------------+-----------------------------+-------------------+--------------------------+------------------+--------------------+-----------------+-----------------+----------------+\nonly showing top 2 rows\n\n"
     ]
    }
   ],
   "source": [
    "staging_product = oltp_products_processed.join(oltp_categories_translation_processed, on='PRODUCT_CATEGORY_NAME', how='left')\\\n",
    "    .withColumnRenamed('PRODUCT_WEIGHT_G', 'PRODUCT_WEIGHT_GRAMS')\\\n",
    "    .select('PRODUCT_ID', 'PRODUCT_CATEGORY_NAME', 'PRODUCT_CATEGORY_NAME_ENGLISH', 'PRODUCT_NAME_LENGTH', 'PRODUCT_DESCRIPTION_LENGTH', 'PRODUCT_PHOTOS_QTY', 'PRODUCT_WEIGHT_GRAMS', 'PRODUCT_LENGTH_CM', 'PRODUCT_HEIGHT_CM','PRODUCT_WIDTH_CM')\n",
    "staging_product.show(2)"
   ]
  },
  {
   "cell_type": "code",
   "execution_count": 30,
   "metadata": {},
   "outputs": [
    {
     "output_type": "stream",
     "name": "stdout",
     "text": [
      "+----------+---------------------+-----------------------------+-------------------+--------------------------+------------------+--------------------+-----------------+-----------------+----------------+\n",
      "|PRODUCT_ID|PRODUCT_CATEGORY_NAME|PRODUCT_CATEGORY_NAME_ENGLISH|PRODUCT_NAME_LENGTH|PRODUCT_DESCRIPTION_LENGTH|PRODUCT_PHOTOS_QTY|PRODUCT_WEIGHT_GRAMS|PRODUCT_LENGTH_CM|PRODUCT_HEIGHT_CM|PRODUCT_WIDTH_CM|\n",
      "+----------+---------------------+-----------------------------+-------------------+--------------------------+------------------+--------------------+-----------------+-----------------+----------------+\n",
      "|         0|                  610|                          623|                  0|                         0|                 0|                   0|                0|                0|               0|\n",
      "+----------+---------------------+-----------------------------+-------------------+--------------------------+------------------+--------------------+-----------------+-----------------+----------------+\n",
      "\n",
      "+----------+-----+\n",
      "|PRODUCT_ID|count|\n",
      "+----------+-----+\n",
      "+----------+-----+\n",
      "\n"
     ]
    }
   ],
   "source": [
    "check_null(staging_product)\n",
    "check_duplicates(staging_product, cols=['PRODUCT_ID'])"
   ]
  },
  {
   "cell_type": "code",
   "execution_count": 31,
   "metadata": {},
   "outputs": [],
   "source": [
    "write_sql_table(staging_product, db='STAGING', db_table='STAGING_PRODUCTS')"
   ]
  },
  {
   "source": [
    "## To Staging Sellers\n",
    "1. Left-Join Sellers with Geolocation\n",
    "2. Row number zip-code -> avoid user duplication\n",
    "3. Check null\n",
    "4. Check duplication\n",
    "5. Save"
   ],
   "cell_type": "markdown",
   "metadata": {}
  },
  {
   "cell_type": "code",
   "execution_count": 38,
   "metadata": {},
   "outputs": [
    {
     "output_type": "stream",
     "name": "stdout",
     "text": [
      "+--------------------+----------------------+-----------+------------+\n",
      "|           SELLER_ID|SELLER_ZIP_CODE_PREFIX|SELLER_CITY|SELLER_STATE|\n",
      "+--------------------+----------------------+-----------+------------+\n",
      "|3442f8959a84dea7e...|                 13023|   campinas|          SP|\n",
      "|d1b65fc7debc3361e...|                 13844| mogi guacu|          SP|\n",
      "+--------------------+----------------------+-----------+------------+\n",
      "only showing top 2 rows\n",
      "\n",
      "+---------------------------+-------------------+------------------+----------------+-----------------+\n",
      "|GEOLOCATION_ZIP_CODE_PREFIX|    GEOLOCATION_LAT|   GEOLOCATION_LNG|GEOLOCATION_CITY|GEOLOCATION_STATE|\n",
      "+---------------------------+-------------------+------------------+----------------+-----------------+\n",
      "|                      01037| -23.54562128115268|-46.63929204800168|       sao paulo|               SP|\n",
      "|                      01046|-23.546081127035535|-46.64482029837157|       sao paulo|               SP|\n",
      "+---------------------------+-------------------+------------------+----------------+-----------------+\n",
      "only showing top 2 rows\n",
      "\n"
     ]
    }
   ],
   "source": [
    "oltp_sellers.show(2)\n",
    "oltp_geolocation_remove_outliers.show(2)"
   ]
  },
  {
   "cell_type": "code",
   "execution_count": 46,
   "metadata": {},
   "outputs": [
    {
     "output_type": "stream",
     "name": "stdout",
     "text": [
      "+--------------------------------+--------------+-----------+------------+-------------------+-------------------+\n|SELLER_ID                       |SELLER_ZIPCODE|SELLER_CITY|SELLER_STATE|SELLER_GEO_LAT     |SELLER_GEO_LONG    |\n+--------------------------------+--------------+-----------+------------+-------------------+-------------------+\n|062ce95fa2ad4dfaedfc79260130565f|95913         |lajeado    |RS          |-29.455996441348013|-51.948006819394465|\n|0b64bcdb0784abc139af04077d49a20e|92420         |canoas     |RS          |-29.89971549769505 |-51.23310201482481 |\n+--------------------------------+--------------+-----------+------------+-------------------+-------------------+\nonly showing top 2 rows\n\n"
     ]
    }
   ],
   "source": [
    "staging_sellers = oltp_sellers_processed.alias('a').join(oltp_geolocation_remove_outliers.alias('b'), col('a.SELLER_ZIP_CODE_PREFIX') == col('b.GEOLOCATION_ZIP_CODE_PREFIX'), how='left')\\\n",
    "    .withColumn('rank', f.row_number().over(Window.partitionBy('SELLER_ID').orderBy('GEOLOCATION_LAT', 'GEOLOCATION_LNG')))\\\n",
    "    .where('rank == 1')\\\n",
    "    .select('SELLER_ID', 'SELLER_ZIP_CODE_PREFIX', 'SELLER_CITY', 'SELLER_STATE', 'GEOLOCATION_LAT', 'GEOLOCATION_LNG')\\\n",
    "    .withColumnRenamed('SELLER_ZIP_CODE_PREFIX', 'SELLER_ZIPCODE')\\\n",
    "    .withColumnRenamed('GEOLOCATION_LAT', 'SELLER_GEO_LAT')\\\n",
    "    .withColumnRenamed('GEOLOCATION_LNG', 'SELLER_GEO_LONG')\n",
    "staging_sellers.show(2, truncate=False)"
   ]
  },
  {
   "cell_type": "code",
   "execution_count": 48,
   "metadata": {},
   "outputs": [
    {
     "output_type": "stream",
     "name": "stdout",
     "text": [
      "+---------+--------------+-----------+------------+--------------+---------------+\n",
      "|SELLER_ID|SELLER_ZIPCODE|SELLER_CITY|SELLER_STATE|SELLER_GEO_LAT|SELLER_GEO_LONG|\n",
      "+---------+--------------+-----------+------------+--------------+---------------+\n",
      "|        0|             0|          0|           0|             7|              7|\n",
      "+---------+--------------+-----------+------------+--------------+---------------+\n",
      "\n",
      "+---------+-----+\n",
      "|SELLER_ID|count|\n",
      "+---------+-----+\n",
      "+---------+-----+\n",
      "\n"
     ]
    }
   ],
   "source": [
    "check_null(staging_sellers)\n",
    "check_duplicates(staging_sellers, cols=['SELLER_ID'])"
   ]
  },
  {
   "cell_type": "code",
   "execution_count": 49,
   "metadata": {},
   "outputs": [],
   "source": [
    "write_sql_table(staging_sellers, db='STAGING', db_table='STAGING_SELLERS')"
   ]
  },
  {
   "source": [
    "## To Staging Payments\n",
    "1. Save"
   ],
   "cell_type": "markdown",
   "metadata": {}
  },
  {
   "cell_type": "code",
   "execution_count": 56,
   "metadata": {},
   "outputs": [],
   "source": [
    "write_sql_table(oltp_order_payments_processed, db='STAGING', db_table='STAGING_ORDER_PAYMENTS')"
   ]
  },
  {
   "source": [
    "# To Staging Orders\n",
    "1. Left join\n",
    "2. Check null\n",
    "3. Check dup\n",
    "4. Save/"
   ],
   "cell_type": "markdown",
   "metadata": {}
  },
  {
   "cell_type": "code",
   "execution_count": 16,
   "metadata": {},
   "outputs": [
    {
     "output_type": "stream",
     "name": "stdout",
     "text": [
      "+--------------------+--------------------+------------+------------------------+-------------------+----------------------------+-----------------------------+-----------------------------+\n",
      "|            ORDER_ID|         CUSTOMER_ID|ORDER_STATUS|ORDER_PURCHASE_TIMESTAMP|  ORDER_APPROVAL_AT|ORDER_DELIVERED_CARRIER_DATE|ORDER_DELIVERED_CUSTOMER_DATE|ORDER_ESTIMATED_DELIVERY_DATE|\n",
      "+--------------------+--------------------+------------+------------------------+-------------------+----------------------------+-----------------------------+-----------------------------+\n",
      "|e481f51cbdc54678b...|9ef432eb625129730...|   delivered|     2017-10-02 10:56:33|2017-10-02 11:07:15|         2017-10-04 19:55:00|          2017-10-10 21:25:13|          2017-10-18 00:00:00|\n",
      "|53cdb2fc8bc7dce0b...|b0830fb4747a6c6d2...|   delivered|     2018-07-24 20:41:37|2018-07-26 03:24:27|         2018-07-26 14:31:00|          2018-08-07 15:27:45|          2018-08-13 00:00:00|\n",
      "+--------------------+--------------------+------------+------------------------+-------------------+----------------------------+-----------------------------+-----------------------------+\n",
      "only showing top 2 rows\n",
      "\n",
      "+--------------------+-------------+--------------------+--------------------+-------------------+-----+-------------+\n",
      "|            ORDER_ID|ORDER_ITEM_ID|          PRODUCT_ID|           SELLER_ID|SHIPPING_LIMIT_DATE|PRICE|FREIGHT_VALUE|\n",
      "+--------------------+-------------+--------------------+--------------------+-------------------+-----+-------------+\n",
      "|00010242fe8c5a6d1...|            1|4244733e06e7ecb49...|48436dade18ac8b2b...|2017-09-19 09:45:35| 58.9|        13.29|\n",
      "|00018f77f2f0320c5...|            1|e5f2d52b802189ee6...|dd7ddc04e1b6c2c61...|2017-05-03 11:05:13|239.9|        19.93|\n",
      "+--------------------+-------------+--------------------+--------------------+-------------------+-----+-------------+\n",
      "only showing top 2 rows\n",
      "\n",
      "+--------------------+--------------------+------------+--------------------+----------------------+--------------------+-----------------------+\n",
      "|           REVIEW_ID|            ORDER_ID|REVIEW_SCORE|REVIEW_COMMENT_TITLE|REVIEW_COMMENT_MESSAGE|REVIEW_CREATION_DATE|REVIEW_ANSWER_TIMESTAMP|\n",
      "+--------------------+--------------------+------------+--------------------+----------------------+--------------------+-----------------------+\n",
      "|7bc2406110b926393...|73fc7af87114b3971...|           4|                    |                      | 2018-01-18 00:00:00|    2018-01-18 21:46:59|\n",
      "|80e641a11e56f04c1...|a548910a1c6147796...|           5|                    |                      | 2018-03-10 00:00:00|    2018-03-11 03:05:13|\n",
      "+--------------------+--------------------+------------+--------------------+----------------------+--------------------+-----------------------+\n",
      "only showing top 2 rows\n",
      "\n",
      "+--------------------+--------------------+------------------------+--------------------+--------------+\n",
      "|         CUSTOMER_ID|  CUSTOMER_UNIQUE_ID|CUSTOMER_ZIP_CODE_PREFIX|       CUSTOMER_CITY|CUSTOMER_STATE|\n",
      "+--------------------+--------------------+------------------------+--------------------+--------------+\n",
      "|06b8999e2fba1a1fb...|861eff4711a542e4b...|                   14409|              franca|            SP|\n",
      "|18955e83d337fd6b2...|290c77bc529b7ac93...|                   09790|sao bernardo do c...|            SP|\n",
      "+--------------------+--------------------+------------------------+--------------------+--------------+\n",
      "only showing top 2 rows\n",
      "\n"
     ]
    }
   ],
   "source": [
    "oltp_orders.show(2)\n",
    "oltp_order_items.show(2)\n",
    "oltp_order_reviews.show(2)\n",
    "oltp_customers.show(2)"
   ]
  },
  {
   "cell_type": "code",
   "execution_count": 19,
   "metadata": {},
   "outputs": [],
   "source": [
    "staging_orders = oltp_orders.join(oltp_order_items, on='ORDER_ID', how='left')\\\n",
    "    .join(oltp_order_reviews, on='ORDER_ID', how='left')\\\n",
    "    .join(oltp_customers, on='CUSTOMER_ID', how='left')\\\n",
    "    .select('ORDER_ID', \"CUSTOMER_UNIQUE_ID\", \"PRODUCT_ID\", \"SELLER_ID\", \"ORDER_ITEM_ID\", \"PRICE\", \"FREIGHT_VALUE\", \\\n",
    "        \"ORDER_STATUS\", \"REVIEW_SCORE\", \"ORDER_PURCHASE_TIMESTAMP\", \"ORDER_APPROVAL_AT\", \"ORDER_DELIVERED_CARRIER_DATE\", \"ORDER_DELIVERED_CUSTOMER_DATE\", \"ORDER_ESTIMATED_DELIVERY_DATE\")\\\n",
    "    .withColumnRenamed('ORDER_ITEM_ID', 'ORDER_ITEM_QTY')\\\n",
    "    .withColumnRenamed('ORDER_APPROVAL_AT', 'ORDER_APPROVAL_TIMESTAMP')\\\n",
    "    .withColumnRenamed('ORDER_DELIVERED_CARRIER_DATE', 'ORDER_DELIVERED_CARRIER_TIMESTAMP')\\\n",
    "    .withColumnRenamed('ORDER_DELIVERED_CUSTOMER_DATE', 'ORDER_DELIVERED_CUSTOMER_TIMESTAMP')\\\n",
    "    .withColumnRenamed('ORDER_ESTIMATED_DELIVERY_DATE', 'ORDER_ESTIMATED_DELIVERY_TIMESTAMP')\\\n",
    "    .cache()"
   ]
  },
  {
   "cell_type": "code",
   "execution_count": 22,
   "metadata": {},
   "outputs": [
    {
     "output_type": "stream",
     "name": "stdout",
     "text": [
      "+--------------------+--------------------+--------------------+--------------------+--------------+-----+-------------+------------+------------+------------------------+------------------------+---------------------------------+----------------------------------+----------------------------------+\n|            ORDER_ID|  CUSTOMER_UNIQUE_ID|          PRODUCT_ID|           SELLER_ID|ORDER_ITEM_QTY|PRICE|FREIGHT_VALUE|ORDER_STATUS|REVIEW_SCORE|ORDER_PURCHASE_TIMESTAMP|ORDER_APPROVAL_TIMESTAMP|ORDER_DELIVERED_CARRIER_TIMESTAMP|ORDER_DELIVERED_CUSTOMER_TIMESTAMP|ORDER_ESTIMATED_DELIVERY_TIMESTAMP|\n+--------------------+--------------------+--------------------+--------------------+--------------+-----+-------------+------------+------------+------------------------+------------------------+---------------------------------+----------------------------------+----------------------------------+\n|975a0290ce9c93595...|2e5dcf79b225e8d16...|d435c3fa55cfd37fa...|51ed72984a04e5dd3...|             1|223.9|        34.84|   delivered|           5|     2017-11-29 00:11:03|     2017-11-29 00:19:27|              2017-12-05 13:32:03|               2017-12-11 16:57:06|               2017-12-19 00:00:00|\n+--------------------+--------------------+--------------------+--------------------+--------------+-----+-------------+------------+------------+------------------------+------------------------+---------------------------------+----------------------------------+----------------------------------+\nonly showing top 1 row\n\n"
     ]
    }
   ],
   "source": [
    "staging_orders.show(1)"
   ]
  },
  {
   "cell_type": "code",
   "execution_count": 23,
   "metadata": {},
   "outputs": [],
   "source": [
    "staging_orders_processed = replace_empty_string_with_null(staging_orders)"
   ]
  },
  {
   "cell_type": "code",
   "execution_count": 24,
   "metadata": {},
   "outputs": [
    {
     "output_type": "stream",
     "name": "stdout",
     "text": [
      "+--------+------------------+----------+---------+--------------+-----+-------------+------------+------------+------------------------+------------------------+---------------------------------+----------------------------------+----------------------------------+\n|ORDER_ID|CUSTOMER_UNIQUE_ID|PRODUCT_ID|SELLER_ID|ORDER_ITEM_QTY|PRICE|FREIGHT_VALUE|ORDER_STATUS|REVIEW_SCORE|ORDER_PURCHASE_TIMESTAMP|ORDER_APPROVAL_TIMESTAMP|ORDER_DELIVERED_CARRIER_TIMESTAMP|ORDER_DELIVERED_CUSTOMER_TIMESTAMP|ORDER_ESTIMATED_DELIVERY_TIMESTAMP|\n+--------+------------------+----------+---------+--------------+-----+-------------+------------+------------+------------------------+------------------------+---------------------------------+----------------------------------+----------------------------------+\n|       0|                 0|       778|      778|           778|  778|          778|           0|           1|                       0|                     162|                             1980|                              3253|                                 0|\n+--------+------------------+----------+---------+--------------+-----+-------------+------------+------------+------------------------+------------------------+---------------------------------+----------------------------------+----------------------------------+\n\n"
     ]
    }
   ],
   "source": [
    "check_null(staging_orders_processed)"
   ]
  },
  {
   "cell_type": "code",
   "execution_count": 30,
   "metadata": {},
   "outputs": [
    {
     "output_type": "stream",
     "name": "stdout",
     "text": [
      "+--------+--------------+\n|ORDER_ID|count_distinct|\n+--------+--------------+\n+--------+--------------+\n\n"
     ]
    }
   ],
   "source": [
    "# Check if 1 order-id have > 1 customers\n",
    "staging_orders_processed.groupby('ORDER_ID').agg(f.countDistinct('CUSTOMER_UNIQUE_ID').alias('count_distinct')).where('count_distinct > 1').show()"
   ]
  },
  {
   "cell_type": "code",
   "execution_count": 31,
   "metadata": {},
   "outputs": [],
   "source": [
    "write_sql_table(staging_orders_processed, db='STAGING', db_table='STAGING_ORDERS')"
   ]
  },
  {
   "cell_type": "code",
   "execution_count": null,
   "metadata": {},
   "outputs": [],
   "source": []
  }
 ]
}